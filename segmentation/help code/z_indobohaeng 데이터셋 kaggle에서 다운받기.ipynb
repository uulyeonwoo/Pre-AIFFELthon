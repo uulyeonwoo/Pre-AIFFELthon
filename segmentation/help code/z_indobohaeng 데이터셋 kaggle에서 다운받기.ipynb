{
 "cells": [
  {
   "cell_type": "code",
   "execution_count": 1,
   "id": "532db903-b292-4c69-af05-975ee3f868e5",
   "metadata": {
    "scrolled": true
   },
   "outputs": [
    {
     "name": "stdout",
     "output_type": "stream",
     "text": [
      "Requirement already satisfied: kaggle in /home/segmentsafestep/miniconda3/envs/jupyter-env/lib/python3.9/site-packages (1.7.4.2)\n",
      "Requirement already satisfied: bleach in /home/segmentsafestep/miniconda3/envs/jupyter-env/lib/python3.9/site-packages (from kaggle) (6.2.0)\n",
      "Requirement already satisfied: certifi>=14.05.14 in /home/segmentsafestep/miniconda3/envs/jupyter-env/lib/python3.9/site-packages (from kaggle) (2021.10.8)\n",
      "Requirement already satisfied: charset-normalizer in /home/segmentsafestep/miniconda3/envs/jupyter-env/lib/python3.9/site-packages (from kaggle) (3.3.2)\n",
      "Requirement already satisfied: idna in /home/segmentsafestep/miniconda3/envs/jupyter-env/lib/python3.9/site-packages (from kaggle) (2.10)\n",
      "Requirement already satisfied: protobuf in /home/segmentsafestep/miniconda3/envs/jupyter-env/lib/python3.9/site-packages (from kaggle) (3.19.1)\n",
      "Requirement already satisfied: python-dateutil>=2.5.3 in /home/segmentsafestep/miniconda3/envs/jupyter-env/lib/python3.9/site-packages (from kaggle) (2.9.0.post0)\n",
      "Requirement already satisfied: python-slugify in /home/segmentsafestep/miniconda3/envs/jupyter-env/lib/python3.9/site-packages (from kaggle) (8.0.4)\n",
      "Requirement already satisfied: requests in /home/segmentsafestep/miniconda3/envs/jupyter-env/lib/python3.9/site-packages (from kaggle) (2.32.3)\n",
      "Requirement already satisfied: setuptools>=21.0.0 in /home/segmentsafestep/miniconda3/envs/jupyter-env/lib/python3.9/site-packages (from kaggle) (75.8.2)\n",
      "Requirement already satisfied: six>=1.10 in /home/segmentsafestep/miniconda3/envs/jupyter-env/lib/python3.9/site-packages (from kaggle) (1.16.0)\n",
      "Requirement already satisfied: text-unidecode in /home/segmentsafestep/miniconda3/envs/jupyter-env/lib/python3.9/site-packages (from kaggle) (1.3)\n",
      "Requirement already satisfied: tqdm in /home/segmentsafestep/miniconda3/envs/jupyter-env/lib/python3.9/site-packages (from kaggle) (4.67.1)\n",
      "Requirement already satisfied: urllib3>=1.15.1 in /home/segmentsafestep/miniconda3/envs/jupyter-env/lib/python3.9/site-packages (from kaggle) (1.26.20)\n",
      "Requirement already satisfied: webencodings in /home/segmentsafestep/miniconda3/envs/jupyter-env/lib/python3.9/site-packages (from kaggle) (0.5.1)\n",
      "Traceback (most recent call last):\n",
      "  File \"/home/segmentsafestep/miniconda3/envs/jupyter-env/bin/kaggle\", line 5, in <module>\n",
      "    from kaggle.cli import main\n",
      "  File \"/home/segmentsafestep/miniconda3/envs/jupyter-env/lib/python3.9/site-packages/kaggle/__init__.py\", line 6, in <module>\n",
      "    api.authenticate()\n",
      "  File \"/home/segmentsafestep/miniconda3/envs/jupyter-env/lib/python3.9/site-packages/kaggle/api/kaggle_api_extended.py\", line 433, in authenticate\n",
      "    raise IOError('Could not find {}. Make sure it\\'s located in'\n",
      "OSError: Could not find kaggle.json. Make sure it's located in /home/segmentsafestep/.kaggle. Or use the environment method. See setup instructions at https://github.com/Kaggle/kaggle-api/\n"
     ]
    }
   ],
   "source": [
    "!pip install kaggle --upgrade\n",
    "!kaggle config view\n",
    "!pip install -q kaggle"
   ]
  },
  {
   "cell_type": "code",
   "execution_count": 2,
   "id": "b5b591d6-a819-4c35-9132-2ee58b273b79",
   "metadata": {},
   "outputs": [
    {
     "name": "stdout",
     "output_type": "stream",
     "text": [
      "  % Total    % Received % Xferd  Average Speed   Time    Time     Time  Current\n",
      "                                 Dload  Upload   Total   Spent    Left  Speed\n",
      "  0     0    0     0    0     0      0      0 --:--:-- --:--:-- --:--:--     0\n",
      "100  125M  100  125M    0     0  18.5M      0  0:00:06  0:00:06 --:--:-- 26.7M\n"
     ]
    }
   ],
   "source": [
    "username = \"yeonwoosung\"\n",
    "key = \"kaggle api 사용하기\"\n",
    "\n",
    "!curl -L -u {username}:{key} \\\n",
    "  -o ~/surface-mask-gray.zip \\\n",
    "  https://www.kaggle.com/api/v1/datasets/download/oochurljeong/surface-mask-gray"
   ]
  },
  {
   "cell_type": "code",
   "execution_count": 4,
   "id": "8248e4d3-bc83-4f06-8dea-99373428f6cb",
   "metadata": {},
   "outputs": [
    {
     "name": "stdout",
     "output_type": "stream",
     "text": [
      "  % Total    % Received % Xferd  Average Speed   Time    Time     Time  Current\n",
      "                                 Dload  Upload   Total   Spent    Left  Speed\n",
      "  0     0    0     0    0     0      0      0 --:--:-- --:--:-- --:--:--     0\n",
      "100 24.9G  100 24.9G    0     0  30.3M      0  0:14:02  0:14:02 --:--:-- 31.2M 0:00:56  0:13:33 29.9M4:18  0:01:35  0:12:43 30.8M      0  0:14:14  0:03:31  0:10:43 29.8M\n"
     ]
    }
   ],
   "source": [
    "username = \"yeonwoosung\"\n",
    "key = \"kaggle api 사용하기\"\n",
    "\n",
    "!curl -L -u {username}:{key} \\\n",
    "  -o ~/Fast-SCNN-pytorch-master/smpl-cityscape.zip\\\n",
    "  https://www.kaggle.com/api/v1/datasets/download/oochurljeong/smpl-cityscape"
   ]
  },
  {
   "cell_type": "code",
   "execution_count": null,
   "id": "66514925-ad9e-49ce-9b63-5d6f1ea16de6",
   "metadata": {},
   "outputs": [],
   "source": []
  }
 ],
 "metadata": {
  "kernelspec": {
   "display_name": "Python 3 (ipykernel)",
   "language": "python",
   "name": "python3"
  },
  "language_info": {
   "codemirror_mode": {
    "name": "ipython",
    "version": 3
   },
   "file_extension": ".py",
   "mimetype": "text/x-python",
   "name": "python",
   "nbconvert_exporter": "python",
   "pygments_lexer": "ipython3",
   "version": "3.9.7"
  }
 },
 "nbformat": 4,
 "nbformat_minor": 5
}
