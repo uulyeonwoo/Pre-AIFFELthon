{
 "cells": [
  {
   "cell_type": "code",
   "execution_count": 3,
   "id": "9ed6ffc7-2135-4a79-8c43-9bb13a1cd361",
   "metadata": {},
   "outputs": [],
   "source": [
    "import torch\n",
    "!unzip -q \"/home/segmentsafestep/Fast-SCNN-pytorch-master/datasets/indobohaeng/surface-mask-gray.zip\" -d datasets"
   ]
  },
  {
   "cell_type": "code",
   "execution_count": 12,
   "id": "1f189b6b-71f9-4806-a549-d604d9dfd1fc",
   "metadata": {},
   "outputs": [],
   "source": [
    "import torch\n",
    "!unzip -q \"/home/segmentsafestep/Fast-SCNN-pytorch-master/datasets/indobohaeng/smpl-cityscape.zip\" -d datasets"
   ]
  },
  {
   "cell_type": "code",
   "execution_count": null,
   "id": "ad8bce79-3888-43df-9b92-10fcbb27bf8a",
   "metadata": {},
   "outputs": [],
   "source": []
  }
 ],
 "metadata": {
  "kernelspec": {
   "display_name": "Python 3 (ipykernel)",
   "language": "python",
   "name": "python3"
  },
  "language_info": {
   "codemirror_mode": {
    "name": "ipython",
    "version": 3
   },
   "file_extension": ".py",
   "mimetype": "text/x-python",
   "name": "python",
   "nbconvert_exporter": "python",
   "pygments_lexer": "ipython3",
   "version": "3.9.7"
  }
 },
 "nbformat": 4,
 "nbformat_minor": 5
}
